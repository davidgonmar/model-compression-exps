{
  "nbformat": 4,
  "nbformat_minor": 0,
  "metadata": {
    "colab": {
      "provenance": [],
      "authorship_tag": "ABX9TyPXMxXKfgeq0GwAJBEFaZlx",
      "include_colab_link": true
    },
    "kernelspec": {
      "name": "python3",
      "display_name": "Python 3"
    },
    "language_info": {
      "name": "python"
    }
  },
  "cells": [
    {
      "cell_type": "markdown",
      "metadata": {
        "id": "view-in-github",
        "colab_type": "text"
      },
      "source": [
        "<a href=\"https://colab.research.google.com/github/davidgonmar/model-compression-exps/blob/main/weight_act_correlation.ipynb\" target=\"_parent\"><img src=\"https://colab.research.google.com/assets/colab-badge.svg\" alt=\"Open In Colab\"/></a>"
      ]
    },
    {
      "cell_type": "code",
      "execution_count": null,
      "metadata": {
        "id": "w4Bt9I6BZSXG"
      },
      "outputs": [],
      "source": [
        "# --- RESNET ACTIVATION/WEIGHT INDEPENDENCE TEST ---\n",
        "import torch\n",
        "import torch.nn as nn\n",
        "import torchvision.models as models\n",
        "import torchvision.transforms as T\n",
        "import torchvision.datasets as datasets\n",
        "from torch.utils.data import DataLoader\n",
        "import numpy as np\n",
        "import matplotlib.pyplot as plt\n",
        "import seaborn as sns\n",
        "\n",
        "# --- Load pretrained ResNet ---\n",
        "model = models.resnet18(pretrained=True).eval()\n",
        "\n",
        "# --- Hook for intermediate activations ---\n",
        "activations = {}\n",
        "def hook_fn(name):\n",
        "    def hook(module, input, output):\n",
        "        activations[name] = output.detach().cpu()\n",
        "    return hook\n",
        "\n",
        "# --- Pick a few layers to test ---\n",
        "layer_names = ['layer1.0.conv2', 'layer2.0.conv2']\n",
        "for name in layer_names:\n",
        "    module = dict(model.named_modules())[name]\n",
        "    module.register_forward_hook(hook_fn(name))\n",
        "\n",
        "# --- Load a small dataset batch ---\n",
        "transform = T.Compose([\n",
        "    T.Resize(224),\n",
        "    T.CenterCrop(224),\n",
        "    T.ToTensor()\n",
        "])\n",
        "dataset = datasets.CIFAR10(root='./data', train=False, transform=transform, download=True)\n",
        "loader = DataLoader(dataset, batch_size=64, shuffle=False)\n",
        "\n",
        "# --- Run one batch through model ---\n",
        "images, _ = next(iter(loader))\n",
        "with torch.no_grad():\n",
        "    model(images)\n",
        "\n",
        "# --- Function to compute correlation matrix ---\n",
        "def corr_matrix(x):\n",
        "    x = x.reshape(x.shape[0], -1)  # flatten spatial dims\n",
        "    x = x - x.mean(dim=0, keepdim=True)\n",
        "    cov = (x.T @ x) / (x.shape[0] - 1)\n",
        "    std = torch.sqrt(torch.diag(cov)).unsqueeze(1)\n",
        "    corr = cov / (std @ std.T + 1e-6)\n",
        "    return corr.numpy()\n",
        "\n",
        "# --- Plot heatmap of correlation matrix ---\n",
        "def plot_corr(corr, title):\n",
        "    plt.figure(figsize=(6,5))\n",
        "    sns.heatmap(corr, cmap='coolwarm', center=0, square=True, xticklabels=False, yticklabels=False)\n",
        "    plt.title(title)\n",
        "    plt.tight_layout()\n",
        "    plt.show()\n",
        "\n",
        "# --- Check activation independence ---\n",
        "for name in layer_names:\n",
        "    act = activations[name]\n",
        "    # Aggregate over spatial dims (mean pooling)\n",
        "    act_flat = act.mean(dim=[2,3]) if act.ndim == 4 else act\n",
        "    corr = np.abs(corr_matrix(act_flat))\n",
        "    print(f\"Activation correlation matrix: {name}\")\n",
        "    plot_corr(corr, f\"Activation Correlation: {name}\")\n",
        "\n",
        "# --- Check weight independence ---\n",
        "for name, module in model.named_modules():\n",
        "    if isinstance(module, nn.Conv2d) or isinstance(module, nn.Linear):\n",
        "        w = module.weight.data.clone().cpu()\n",
        "        w_flat = w.view(w.shape[0], -1)\n",
        "        corr = np.abs(corr_matrix(w_flat))\n",
        "        print(f\"Weight correlation matrix: {name}\")\n",
        "        plot_corr(corr, f\"Weight Correlation: {name}\")\n",
        "        break  # Just show one example for brevity\n",
        "\n"
      ]
    }
  ]
}