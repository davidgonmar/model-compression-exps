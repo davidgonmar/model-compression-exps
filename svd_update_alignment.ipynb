{
  "nbformat": 4,
  "nbformat_minor": 0,
  "metadata": {
    "colab": {
      "provenance": [],
      "authorship_tag": "ABX9TyNGt4sCawibq+9On2/8kPds",
      "include_colab_link": true
    },
    "kernelspec": {
      "name": "python3",
      "display_name": "Python 3"
    },
    "language_info": {
      "name": "python"
    }
  },
  "cells": [
    {
      "cell_type": "markdown",
      "metadata": {
        "id": "view-in-github",
        "colab_type": "text"
      },
      "source": [
        "<a href=\"https://colab.research.google.com/github/davidgonmar/model-compression-exps/blob/main/svd_update_alignment.ipynb\" target=\"_parent\"><img src=\"https://colab.research.google.com/assets/colab-badge.svg\" alt=\"Open In Colab\"/></a>"
      ]
    },
    {
      "cell_type": "code",
      "execution_count": null,
      "metadata": {
        "id": "dpCKWoKMjyfA"
      },
      "outputs": [],
      "source": [
        "# by chatgpt\n",
        "import torch\n",
        "import torch.nn as nn\n",
        "import torch.nn.functional as F\n",
        "import torch.optim as optim\n",
        "from torchvision import datasets, transforms\n",
        "from torch.utils.data import DataLoader\n",
        "import time\n",
        "\n",
        "\n",
        "# -------------------------------\n",
        "# Alignment Function\n",
        "# -------------------------------\n",
        "def svd_alignment(W, dW, k=5):\n",
        "    \"\"\"Compute how much of dW lies in the top-k singular subspace of W.\"\"\"\n",
        "    with torch.no_grad():\n",
        "        U, S, Vh = torch.linalg.svd(W, full_matrices=False)\n",
        "        U_k = U[:, :k]\n",
        "        V_k = Vh[:k, :].T\n",
        "        dW_proj = U_k @ (U_k.T @ dW @ V_k) @ V_k.T\n",
        "        alignment = (dW_proj.norm() ** 2) / (dW.norm() ** 2 + 1e-10)\n",
        "        return alignment.item()\n",
        "\n",
        "\n",
        "# -------------------------------\n",
        "# Simple Model\n",
        "# -------------------------------\n",
        "class SimpleMLP(nn.Module):\n",
        "    def __init__(self):\n",
        "        super().__init__()\n",
        "        self.fc1 = nn.Linear(28 * 28, 256)\n",
        "        self.fc2 = nn.Linear(256, 10)\n",
        "\n",
        "    def forward(self, x):\n",
        "        x = x.view(-1, 28 * 28)\n",
        "        x = F.relu(self.fc1(x))\n",
        "        return self.fc2(x)\n",
        "\n",
        "\n",
        "# -------------------------------\n",
        "# Training Setup\n",
        "# -------------------------------\n",
        "def train(model, device, train_loader, optimizer, criterion, epochs=3, k=5):\n",
        "    model.train()\n",
        "    for epoch in range(1, epochs + 1):\n",
        "        for batch_idx, (data, target) in enumerate(train_loader):\n",
        "            data, target = data.to(device), target.to(device)\n",
        "\n",
        "            optimizer.zero_grad()\n",
        "            output = model(data)\n",
        "            loss = criterion(output, target)\n",
        "            loss.backward()\n",
        "\n",
        "            # SVD alignment (before optimizer step)\n",
        "            with torch.no_grad():\n",
        "                for name, param in model.named_parameters():\n",
        "                    if 'weight' in name and 'fc1' in name and param.grad is not None:\n",
        "                        align = svd_alignment(param.data, param.grad, k=k)\n",
        "                        print(f\"Epoch {epoch}, Batch {batch_idx}: {name} update alignment (top-{k}) = {align:.4f}\")\n",
        "                        break  # Only compute for one layer\n",
        "\n",
        "            optimizer.step()\n",
        "\n",
        "\n",
        "# -------------------------------\n",
        "# Main\n",
        "# -------------------------------\n",
        "def main():\n",
        "    device = torch.device(\"cuda\" if torch.cuda.is_available() else \"cpu\")\n",
        "\n",
        "    # MNIST\n",
        "    transform = transforms.ToTensor()\n",
        "    train_dataset = datasets.MNIST(root='./data', train=True, download=True, transform=transform)\n",
        "    train_loader = DataLoader(train_dataset, batch_size=64, shuffle=True)\n",
        "\n",
        "    # Model\n",
        "    model = SimpleMLP().to(device)\n",
        "    optimizer = optim.SGD(model.parameters(), lr=0.01, momentum=0.9)\n",
        "    criterion = nn.CrossEntropyLoss()\n",
        "\n",
        "    # Train\n",
        "    train(model, device, train_loader, optimizer, criterion, epochs=1, k=5)\n",
        "\n",
        "\n",
        "if __name__ == \"__main__\":\n",
        "    main()"
      ]
    }
  ]
}