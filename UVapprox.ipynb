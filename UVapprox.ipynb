{
  "nbformat": 4,
  "nbformat_minor": 0,
  "metadata": {
    "colab": {
      "provenance": [],
      "authorship_tag": "ABX9TyNhh7eEHhlytR27KxKpe8Zs",
      "include_colab_link": true
    },
    "kernelspec": {
      "name": "python3",
      "display_name": "Python 3"
    },
    "language_info": {
      "name": "python"
    }
  },
  "cells": [
    {
      "cell_type": "markdown",
      "metadata": {
        "id": "view-in-github",
        "colab_type": "text"
      },
      "source": [
        "<a href=\"https://colab.research.google.com/github/davidgonmar/model-compression-exps/blob/main/UVapprox.ipynb\" target=\"_parent\"><img src=\"https://colab.research.google.com/assets/colab-badge.svg\" alt=\"Open In Colab\"/></a>"
      ]
    },
    {
      "cell_type": "code",
      "execution_count": null,
      "metadata": {
        "id": "x_uTqw9yFiFM"
      },
      "outputs": [],
      "source": [
        "import torch\n",
        "import time\n",
        "\n",
        "# Choose the device: CUDA if available, otherwise CPU\n",
        "device = torch.device('cuda' if torch.cuda.is_available() else 'cpu')\n",
        "print(\"Using device:\", device)\n",
        "\n",
        "# Newton's method for computing the polar factor on the device\n",
        "def polar_newton(A, max_iter=100, tol=1e-6):\n",
        "    Q = A.clone()\n",
        "    for i in range(max_iter):\n",
        "        Q_inv = torch.inverse(Q)\n",
        "        Q_next = 0.5 * (Q + Q_inv.T)\n",
        "        # Check for convergence using the Frobenius norm\n",
        "        if torch.norm(Q_next - Q) < tol:\n",
        "            Q = Q_next\n",
        "            break\n",
        "        Q = Q_next\n",
        "    return Q\n",
        "\n",
        "# Compute the polar factor using full SVD: Q = U * V^T\n",
        "def polar_via_svd(A):\n",
        "    U, S, Vh = torch.linalg.svd(A, full_matrices=False)\n",
        "    return U @ Vh\n",
        "\n",
        "# Example: comparing on a random 1000x1000 matrix on CUDA\n",
        "n = 4096\n",
        "A = torch.randn(n, n, device=device)\n",
        "\n",
        "# Time the SVD method\n",
        "if device.type == \"cuda\":\n",
        "    torch.cuda.synchronize()\n",
        "start = time.time()\n",
        "Q_svd = polar_via_svd(A)\n",
        "if device.type == \"cuda\":\n",
        "    torch.cuda.synchronize()\n",
        "svd_time = time.time() - start\n",
        "\n",
        "# Time the Newton iteration method\n",
        "if device.type == \"cuda\":\n",
        "    torch.cuda.synchronize()\n",
        "start = time.time()\n",
        "Q_newton = polar_newton(A)\n",
        "if device.type == \"cuda\":\n",
        "    torch.cuda.synchronize()\n",
        "newton_time = time.time() - start\n",
        "\n",
        "# Compute the difference between the two methods\n",
        "error = torch.norm(Q_svd - Q_newton)\n",
        "\n",
        "print(\"Matrix size: {}x{}\".format(n, n))\n",
        "print(\"Time using full SVD: {:.6f} sec\".format(svd_time))\n",
        "print(\"Time using Newton polar method: {:.6f} sec\".format(newton_time))\n",
        "print(\"Difference (Frobenius norm) between Q's: {:.6e}\".format(error.item()))"
      ]
    }
  ]
}